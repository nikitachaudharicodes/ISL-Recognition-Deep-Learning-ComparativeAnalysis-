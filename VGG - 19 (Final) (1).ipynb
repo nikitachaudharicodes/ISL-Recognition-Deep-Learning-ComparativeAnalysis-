{
 "cells": [
  {
   "cell_type": "markdown",
   "metadata": {},
   "source": [
    "# Sign Detection with VGG19"
   ]
  },
  {
   "cell_type": "markdown",
   "metadata": {},
   "source": [
    "### Loading Libraries"
   ]
  },
  {
   "cell_type": "code",
   "execution_count": 1,
   "metadata": {
    "_cell_guid": "b1076dfc-b9ad-4769-8c92-a6c4dae69d19",
    "_uuid": "8f2839f25d086af736a60e9eeb907d3b93b6e0e5"
   },
   "outputs": [],
   "source": [
    "import numpy as np # linear algebra\n",
    "import pandas as pd # data processing, CSV file I/O (e.g. pd.read_csv)\n",
    "\n",
    "from keras.applications.vgg16 import VGG16\n",
    "from keras.models import Model\n",
    "import os\n",
    "import tensorflow as tf\n",
    "from tensorflow import keras\n",
    "from tensorflow.keras.applications import MobileNetV2\n",
    "from tensorflow.keras.layers import Dense, Conv2D, MaxPool2D, Flatten, Dropout\n",
    "import time\n",
    "from tensorflow.keras.preprocessing.image import ImageDataGenerator\n",
    "from sklearn.metrics import confusion_matrix,plot_confusion_matrix, plot_roc_curve\n",
    "from sklearn.metrics import classification_report\n",
    "import seaborn as sns\n",
    "from tensorflow.keras.optimizers import Adam\n",
    "from keras.applications.vgg19 import VGG19\n",
    "\n",
    "import matplotlib.pyplot as plt\n",
    "import warnings\n",
    "warnings.filterwarnings('ignore')"
   ]
  },
  {
   "cell_type": "markdown",
   "metadata": {},
   "source": [
    "### Image Data Augmentation"
   ]
  },
  {
   "cell_type": "code",
   "execution_count": 2,
   "metadata": {},
   "outputs": [
    {
     "name": "stdout",
     "output_type": "stream",
     "text": [
      "Found 8803 images belonging to 26 classes.\n",
      "Found 2189 images belonging to 26 classes.\n"
     ]
    }
   ],
   "source": [
    "# ImageDataGenerator\n",
    "datagen = ImageDataGenerator(\n",
    "    validation_split=0.2,\n",
    "         rotation_range=10, # rotation\n",
    "         width_shift_range=0.2, # horizontal shift\n",
    "         height_shift_range=0.2, # vertical shift\n",
    "         zoom_range=0.2, # zoom\n",
    "         horizontal_flip=True, # horizontal flip\n",
    "         brightness_range=[0.2,1.2]) # brightness\n",
    "\n",
    "data_dir = \"ISL-Original/Training\"\n",
    "test_datagen=ImageDataGenerator(validation_split=0.2)\n",
    "train_ds = datagen.flow_from_directory(data_dir,\n",
    "                                           class_mode = 'categorical',\n",
    "                                           target_size = (64, 64),\n",
    "                                           batch_size=64,\n",
    "                                       subset='training',\n",
    "                                           seed=46)\n",
    "val_ds = test_datagen.flow_from_directory(data_dir,\n",
    "                                     class_mode = 'categorical',\n",
    "                                     target_size = (64, 64),\n",
    "                                     batch_size=64,\n",
    "                                          subset='validation',\n",
    "                                     seed=46)"
   ]
  },
  {
   "cell_type": "markdown",
   "metadata": {},
   "source": [
    "### Declare Metrics "
   ]
  },
  {
   "cell_type": "code",
   "execution_count": 3,
   "metadata": {},
   "outputs": [],
   "source": [
    "from tensorflow.keras import backend as K\n",
    "def precision(y_true, y_pred):\n",
    "    \"\"\" Precision metric. Only computes a batch-wise average of precision. Computes the precision, a metric for multi-label classification of\n",
    "    how many selected items are relevant.\"\"\"\n",
    "    true_positives = K.sum(K.round(K.clip(y_true * y_pred, 0, 1)))\n",
    "    predicted_positives = K.sum(K.round(K.clip(y_pred, 0, 1)))\n",
    "    precision = true_positives / (predicted_positives + K.epsilon())\n",
    "    return precision\n",
    "\n",
    "def recall(y_true, y_pred):\n",
    "    \"\"\" Recall metric. Only computes a batch-wise average of recall. Computes the recall, a metric for multi-label classification of\n",
    "    how many relevant items are selected. \"\"\"\n",
    "    true_positives = K.sum(K.round(K.clip(y_true * y_pred, 0, 1)))\n",
    "    possible_positives = K.sum(K.round(K.clip(y_true, 0, 1)))\n",
    "    recall = true_positives / (possible_positives + K.epsilon())\n",
    "    return recall\n",
    "\n",
    "def f1(y_true, y_pred):\n",
    "    precision_f = precision(y_true, y_pred)\n",
    "    recall_f = recall(y_true, y_pred)\n",
    "    return 2*((precision_f*recall_f)/(precision_f+recall_f+K.epsilon()))"
   ]
  },
  {
   "cell_type": "markdown",
   "metadata": {},
   "source": [
    "### Implement the Deep Learning Model - VGG19"
   ]
  },
  {
   "cell_type": "code",
   "execution_count": 4,
   "metadata": {},
   "outputs": [],
   "source": [
    "#Initialising vgg16 \n",
    "classifier_vgg19 = VGG19(input_shape= (64,64,3),include_top=False,weights='imagenet')\n",
    "\n",
    "#don't train existing weights for vgg16\n",
    "for layer in classifier_vgg19.layers:\n",
    "    layer.trainable = False\n",
    "    \n",
    "classifier1 = classifier_vgg19.output#head mode\n",
    "classifier1 = Flatten()(classifier1)#adding layer of flatten\n",
    "classifier1 = Dense(units=256, activation='relu')(classifier1)\n",
    "classifier1 = Dropout(0.6)(classifier1)\n",
    "classifier1 = Dense(units=26, activation='softmax')(classifier1) #26 units for all gestures\n",
    "\n",
    "model = Model(inputs = classifier_vgg19.input , outputs = classifier1)\n",
    "model.compile(optimizer='adam', loss='categorical_crossentropy',  metrics = ['accuracy',f1, precision,recall])"
   ]
  },
  {
   "cell_type": "code",
   "execution_count": 5,
   "metadata": {},
   "outputs": [
    {
     "name": "stdout",
     "output_type": "stream",
     "text": [
      "Model: \"model\"\n",
      "_________________________________________________________________\n",
      "Layer (type)                 Output Shape              Param #   \n",
      "=================================================================\n",
      "input_1 (InputLayer)         [(None, 64, 64, 3)]       0         \n",
      "_________________________________________________________________\n",
      "block1_conv1 (Conv2D)        (None, 64, 64, 64)        1792      \n",
      "_________________________________________________________________\n",
      "block1_conv2 (Conv2D)        (None, 64, 64, 64)        36928     \n",
      "_________________________________________________________________\n",
      "block1_pool (MaxPooling2D)   (None, 32, 32, 64)        0         \n",
      "_________________________________________________________________\n",
      "block2_conv1 (Conv2D)        (None, 32, 32, 128)       73856     \n",
      "_________________________________________________________________\n",
      "block2_conv2 (Conv2D)        (None, 32, 32, 128)       147584    \n",
      "_________________________________________________________________\n",
      "block2_pool (MaxPooling2D)   (None, 16, 16, 128)       0         \n",
      "_________________________________________________________________\n",
      "block3_conv1 (Conv2D)        (None, 16, 16, 256)       295168    \n",
      "_________________________________________________________________\n",
      "block3_conv2 (Conv2D)        (None, 16, 16, 256)       590080    \n",
      "_________________________________________________________________\n",
      "block3_conv3 (Conv2D)        (None, 16, 16, 256)       590080    \n",
      "_________________________________________________________________\n",
      "block3_conv4 (Conv2D)        (None, 16, 16, 256)       590080    \n",
      "_________________________________________________________________\n",
      "block3_pool (MaxPooling2D)   (None, 8, 8, 256)         0         \n",
      "_________________________________________________________________\n",
      "block4_conv1 (Conv2D)        (None, 8, 8, 512)         1180160   \n",
      "_________________________________________________________________\n",
      "block4_conv2 (Conv2D)        (None, 8, 8, 512)         2359808   \n",
      "_________________________________________________________________\n",
      "block4_conv3 (Conv2D)        (None, 8, 8, 512)         2359808   \n",
      "_________________________________________________________________\n",
      "block4_conv4 (Conv2D)        (None, 8, 8, 512)         2359808   \n",
      "_________________________________________________________________\n",
      "block4_pool (MaxPooling2D)   (None, 4, 4, 512)         0         \n",
      "_________________________________________________________________\n",
      "block5_conv1 (Conv2D)        (None, 4, 4, 512)         2359808   \n",
      "_________________________________________________________________\n",
      "block5_conv2 (Conv2D)        (None, 4, 4, 512)         2359808   \n",
      "_________________________________________________________________\n",
      "block5_conv3 (Conv2D)        (None, 4, 4, 512)         2359808   \n",
      "_________________________________________________________________\n",
      "block5_conv4 (Conv2D)        (None, 4, 4, 512)         2359808   \n",
      "_________________________________________________________________\n",
      "block5_pool (MaxPooling2D)   (None, 2, 2, 512)         0         \n",
      "_________________________________________________________________\n",
      "flatten (Flatten)            (None, 2048)              0         \n",
      "_________________________________________________________________\n",
      "dense (Dense)                (None, 256)               524544    \n",
      "_________________________________________________________________\n",
      "dropout (Dropout)            (None, 256)               0         \n",
      "_________________________________________________________________\n",
      "dense_1 (Dense)              (None, 26)                6682      \n",
      "=================================================================\n",
      "Total params: 20,555,610\n",
      "Trainable params: 531,226\n",
      "Non-trainable params: 20,024,384\n",
      "_________________________________________________________________\n"
     ]
    }
   ],
   "source": [
    "model.summary()"
   ]
  },
  {
   "cell_type": "code",
   "execution_count": 6,
   "metadata": {},
   "outputs": [
    {
     "name": "stdout",
     "output_type": "stream",
     "text": [
      "Epoch 1/10\n",
      "138/138 [==============================] - 231s 2s/step - loss: 4.4628 - accuracy: 0.3978 - f1: 0.3811 - precision: 0.5919 - recall: 0.2869 - val_loss: 0.6884 - val_accuracy: 0.8237 - val_f1: 0.8083 - val_precision: 0.9021 - val_recall: 0.7337\n",
      "Epoch 2/10\n",
      "138/138 [==============================] - 223s 2s/step - loss: 1.4585 - accuracy: 0.6368 - f1: 0.6243 - precision: 0.7999 - recall: 0.5146 - val_loss: 0.5111 - val_accuracy: 0.8853 - val_f1: 0.8871 - val_precision: 0.9161 - val_recall: 0.8603\n",
      "Epoch 3/10\n",
      "138/138 [==============================] - 227s 2s/step - loss: 1.1209 - accuracy: 0.7166 - f1: 0.7163 - precision: 0.8320 - recall: 0.6305 - val_loss: 0.5406 - val_accuracy: 0.8853 - val_f1: 0.8929 - val_precision: 0.9059 - val_recall: 0.8804\n",
      "Epoch 4/10\n",
      "138/138 [==============================] - 226s 2s/step - loss: 0.8923 - accuracy: 0.7719 - f1: 0.7737 - precision: 0.8652 - recall: 0.7009 - val_loss: 0.5446 - val_accuracy: 0.8958 - val_f1: 0.8992 - val_precision: 0.9113 - val_recall: 0.8876\n",
      "Epoch 5/10\n",
      "138/138 [==============================] - 228s 2s/step - loss: 0.7679 - accuracy: 0.8014 - f1: 0.8050 - precision: 0.8814 - recall: 0.7419 - val_loss: 0.5386 - val_accuracy: 0.8840 - val_f1: 0.8867 - val_precision: 0.9018 - val_recall: 0.8724\n",
      "Epoch 6/10\n",
      "138/138 [==============================] - 232s 2s/step - loss: 0.7360 - accuracy: 0.8082 - f1: 0.8110 - precision: 0.8768 - recall: 0.7553 - val_loss: 0.4070 - val_accuracy: 0.9137 - val_f1: 0.9202 - val_precision: 0.9286 - val_recall: 0.9121\n",
      "Epoch 7/10\n",
      "138/138 [==============================] - 234s 2s/step - loss: 0.6760 - accuracy: 0.8205 - f1: 0.8272 - precision: 0.8837 - recall: 0.7784 - val_loss: 0.3929 - val_accuracy: 0.9091 - val_f1: 0.9118 - val_precision: 0.9189 - val_recall: 0.9049\n",
      "Epoch 8/10\n",
      "138/138 [==============================] - 234s 2s/step - loss: 0.6132 - accuracy: 0.8407 - f1: 0.8426 - precision: 0.8959 - recall: 0.7960 - val_loss: 0.3811 - val_accuracy: 0.9296 - val_f1: 0.9297 - val_precision: 0.9340 - val_recall: 0.9255\n",
      "Epoch 9/10\n",
      "138/138 [==============================] - 237s 2s/step - loss: 0.5833 - accuracy: 0.8446 - f1: 0.8468 - precision: 0.8958 - recall: 0.8035 - val_loss: 0.3688 - val_accuracy: 0.9214 - val_f1: 0.9278 - val_precision: 0.9376 - val_recall: 0.9183\n",
      "Epoch 10/10\n",
      "138/138 [==============================] - 236s 2s/step - loss: 0.5792 - accuracy: 0.8498 - f1: 0.8544 - precision: 0.8995 - recall: 0.8141 - val_loss: 0.4145 - val_accuracy: 0.9223 - val_f1: 0.9205 - val_precision: 0.9263 - val_recall: 0.9148\n"
     ]
    }
   ],
   "source": [
    "#fit the model\n",
    "#it will take some time to train\n",
    "history = model.fit(train_ds, epochs =10, batch_size = 64,validation_data=val_ds)"
   ]
  },
  {
   "cell_type": "markdown",
   "metadata": {},
   "source": [
    "### Learning Curves - Graph "
   ]
  },
  {
   "cell_type": "code",
   "execution_count": 7,
   "metadata": {},
   "outputs": [
    {
     "data": {
      "image/png": "[encoded data removed]",
      "text/plain": [
       "<Figure size 432x288 with 1 Axes>"
      ]
     },
     "metadata": {
      "needs_background": "light"
     },
     "output_type": "display_data"
    }
   ],
   "source": [
    "fig1 = plt.gcf()\n",
    "plt.plot(history.history['accuracy'])\n",
    "plt.plot(history.history['val_accuracy'])\n",
    "plt.axis(ymin=0.4,ymax=1)\n",
    "plt.grid()\n",
    "plt.title('Model Accuracy')\n",
    "plt.ylabel('Accuracy')\n",
    "plt.xlabel('Epochs')\n",
    "plt.legend(['train', 'validation'])\n",
    "plt.show()"
   ]
  },
  {
   "cell_type": "code",
   "execution_count": 8,
   "metadata": {},
   "outputs": [
    {
     "data": {
      "image/png": "[encoded data removed]",
      "text/plain": [
       "<Figure size 432x288 with 1 Axes>"
      ]
     },
     "metadata": {
      "needs_background": "light"
     },
     "output_type": "display_data"
    }
   ],
   "source": [
    "fig1 = plt.gcf()\n",
    "plt.plot(history.history['loss'])\n",
    "plt.plot(history.history['val_loss'])\n",
    "plt.axis(ymin=0,ymax=5)\n",
    "plt.grid()\n",
    "plt.title('Model Loss')\n",
    "plt.ylabel('Loss')\n",
    "plt.xlabel('Epochs')\n",
    "plt.legend(['train', 'validation'])\n",
    "plt.show()"
   ]
  },
  {
   "cell_type": "markdown",
   "metadata": {},
   "source": [
    "### Evaluating the Model "
   ]
  },
  {
   "cell_type": "code",
   "execution_count": 9,
   "metadata": {},
   "outputs": [],
   "source": [
    "Y_pred = model.predict_generator(val_ds)\n",
    "y_pred = np.argmax(Y_pred, axis=1)"
   ]
  },
  {
   "cell_type": "code",
   "execution_count": 10,
   "metadata": {},
   "outputs": [
    {
     "data": {
      "text/plain": [
       "Text(0.5, 33.0, 'Predicted label')"
      ]
     },
     "execution_count": 10,
     "metadata": {},
     "output_type": "execute_result"
    },
    {
     "data": {
      "image/png": "[encoded data removed]",
      "text/plain": [
       "<Figure size 504x432 with 2 Axes>"
      ]
     },
     "metadata": {
      "needs_background": "light"
     },
     "output_type": "display_data"
    }
   ],
   "source": [
    "cf_mat = confusion_matrix(val_ds.classes, y_pred)\n",
    "cf_mat_normalized = cf_mat.astype('float') / cf_mat.sum(axis=1)[:, np.newaxis]\n",
    "plt.figure(figsize=(7, 6))\n",
    "sns.heatmap(cf_mat_normalized, cmap=\"Blues\")\n",
    "plt.ylabel('True label')\n",
    "plt.xlabel('Predicted label')"
   ]
  },
  {
   "cell_type": "code",
   "execution_count": 11,
   "metadata": {},
   "outputs": [],
   "source": [
    "model.save('vgg19_final_signd.h5')"
   ]
  },
  {
   "cell_type": "code",
   "execution_count": 12,
   "metadata": {},
   "outputs": [
    {
     "name": "stdout",
     "output_type": "stream",
     "text": [
      "              precision    recall  f1-score   support\n",
      "\n",
      "           0       0.06      0.06      0.06        82\n",
      "           1       0.04      0.04      0.04        84\n",
      "           2       0.04      0.05      0.05        80\n",
      "           3       0.06      0.08      0.07        85\n",
      "           4       0.05      0.04      0.04        82\n",
      "           5       0.03      0.02      0.03        83\n",
      "           6       0.00      0.00      0.00        80\n",
      "           7       0.03      0.02      0.02        82\n",
      "           8       0.03      0.02      0.03        83\n",
      "           9       0.08      0.06      0.07        84\n",
      "          10       0.01      0.01      0.01        80\n",
      "          11       0.05      0.06      0.05        88\n",
      "          12       0.00      0.00      0.00        82\n",
      "          13       0.04      0.06      0.05        79\n",
      "          14       0.01      0.01      0.01        85\n",
      "          15       0.02      0.02      0.02        86\n",
      "          16       0.10      0.11      0.10        85\n",
      "          17       0.04      0.04      0.04        81\n",
      "          18       0.03      0.04      0.03        84\n",
      "          19       0.02      0.02      0.02        97\n",
      "          20       0.03      0.04      0.03        84\n",
      "          21       0.01      0.01      0.01        82\n",
      "          22       0.04      0.04      0.04        89\n",
      "          23       0.10      0.11      0.10        94\n",
      "          24       0.01      0.01      0.01        81\n",
      "          25       0.07      0.07      0.07        87\n",
      "\n",
      "    accuracy                           0.04      2189\n",
      "   macro avg       0.04      0.04      0.04      2189\n",
      "weighted avg       0.04      0.04      0.04      2189\n",
      "\n"
     ]
    }
   ],
   "source": [
    "labels = val_ds.classes\n",
    "print(classification_report(labels, y_pred))"
   ]
  },
  {
   "cell_type": "code",
   "execution_count": 20,
   "metadata": {},
   "outputs": [
    {
     "data": {
      "text/plain": [
       "['L']"
      ]
     },
     "execution_count": 20,
     "metadata": {},
     "output_type": "execute_result"
    },
    {
     "data": {
      "image/png": "[encoded data removed]",
      "text/plain": [
       "<Figure size 432x288 with 1 Axes>"
      ]
     },
     "metadata": {
      "needs_background": "light"
     },
     "output_type": "display_data"
    }
   ],
   "source": [
    "#Creating a dictionary to map each of the indexes to the corresponding number or letter\n",
    "from keras.preprocessing import image\n",
    "dict = {0:\"A\",1:\"B\",2:\"C\",3:\"D\",4:\"E\",5:\"F\",6:\"G\",7:\"H\",8:\"I\",9:\"J\",10:\"K\",\n",
    "        11:\"L\",12:\"M\",13:\"N\",14:\"O\",15:\"P\",16:\"Q\",17:\"R\",18:\"S\",19:\"T\",20:\"U\",21:\"V\",22:\"W\",23:\"X\",\n",
    "        24:\"Y\",25:\"Z\"}\n",
    "\n",
    "\n",
    "#Predicting images\n",
    "\n",
    "img = image.load_img(\"sign_L.jpeg\", target_size=(64, 64))\n",
    "x = image.img_to_array(img)\n",
    "plt.imshow(img)\n",
    "x = np.expand_dims(x, axis=0)\n",
    "\n",
    "image = np.vstack([x])\n",
    "classes = model.predict(image, batch_size=64)\n",
    "label = [np.argmax(i) for i in classes]\n",
    "pred_class=[dict[x] for x in label]\n",
    "pred_class"
   ]
  },
  {
   "cell_type": "code",
   "execution_count": 22,
   "metadata": {},
   "outputs": [],
   "source": [
    "loss, accuracy, f1_score, precision, recall = model.evaluate(val_ds, verbose=0)"
   ]
  },
  {
   "cell_type": "code",
   "execution_count": 23,
   "metadata": {},
   "outputs": [
    {
     "name": "stdout",
     "output_type": "stream",
     "text": [
      "Test Loss:  41.446 %\n",
      "Test Accuracy:  92.234 %\n",
      "Test Precision:  92.806 %\n",
      "Test Recall:  91.48 %\n",
      "Test F1 Score:  92.13 %\n"
     ]
    }
   ],
   "source": [
    "print(f\"Test Loss: \", round(loss*100, 3), '%')\n",
    "print(f\"Test Accuracy: \", round(accuracy*100, 3), '%')\n",
    "print(f\"Test Precision: \", round(precision*100, 3), '%')\n",
    "print(f\"Test Recall: \",round(recall*100, 3), '%')\n",
    "print(f\"Test F1 Score: \",round(f1_score*100, 3), '%')"
   ]
  }
 ],
 "metadata": {
  "kernelspec": {
   "display_name": "Python 3",
   "language": "python",
   "name": "python3"
  },
  "language_info": {
   "codemirror_mode": {
    "name": "ipython",
    "version": 3
   },
   "file_extension": ".py",
   "mimetype": "text/x-python",
   "name": "python",
   "nbconvert_exporter": "python",
   "pygments_lexer": "ipython3",
   "version": "3.8.8"
  }
 },
 "nbformat": 4,
 "nbformat_minor": 4
}
