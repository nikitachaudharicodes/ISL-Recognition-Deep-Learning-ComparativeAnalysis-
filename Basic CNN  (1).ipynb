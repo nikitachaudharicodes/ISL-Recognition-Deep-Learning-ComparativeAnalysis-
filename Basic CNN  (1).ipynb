{
 "cells": [
  {
   "cell_type": "markdown",
   "metadata": {},
   "source": [
    "# Sign Detection with Convolutional Neural Network"
   ]
  },
  {
   "cell_type": "markdown",
   "metadata": {},
   "source": [
    "### Loading Libraries"
   ]
  },
  {
   "cell_type": "code",
   "execution_count": 1,
   "metadata": {
    "_cell_guid": "b1076dfc-b9ad-4769-8c92-a6c4dae69d19",
    "_uuid": "8f2839f25d086af736a60e9eeb907d3b93b6e0e5"
   },
   "outputs": [],
   "source": [
    "import numpy as np # linear algebra\n",
    "import pandas as pd # data processing, CSV file I/O (e.g. pd.read_csv)\n",
    "\n",
    "from keras.models import Model\n",
    "import os\n",
    "import tensorflow as tf\n",
    "from tensorflow import keras\n",
    "from tensorflow.keras import layers\n",
    "import time\n",
    "from tensorflow.keras.preprocessing.image import ImageDataGenerator\n",
    "from sklearn.metrics import confusion_matrix,plot_confusion_matrix, plot_roc_curve\n",
    "from sklearn.metrics import classification_report\n",
    "\n",
    "import seaborn as sns\n",
    "from tensorflow.keras.optimizers import Adam\n",
    "from keras.models import Sequential\n",
    "from keras.layers import Conv2D, Lambda, MaxPooling2D # convolution layers\n",
    "from keras.layers import Dense, Dropout, Flatten # core layers\n",
    "\n",
    "from keras.preprocessing.image import ImageDataGenerator\n",
    "\n",
    "from keras.utils.np_utils import to_categorical\n",
    "\n",
    "import matplotlib.pyplot as plt\n",
    "import warnings\n",
    "warnings.filterwarnings('ignore')"
   ]
  },
  {
   "cell_type": "markdown",
   "metadata": {},
   "source": [
    "### Image Data Augmentation"
   ]
  },
  {
   "cell_type": "code",
   "execution_count": 2,
   "metadata": {},
   "outputs": [
    {
     "name": "stdout",
     "output_type": "stream",
     "text": [
      "Found 8803 images belonging to 26 classes.\n",
      "Found 2189 images belonging to 26 classes.\n"
     ]
    }
   ],
   "source": [
    "# ImageDataGenerator\n",
    "datagen = ImageDataGenerator(\n",
    "    validation_split=0.2,\n",
    "         rotation_range=10, # rotation\n",
    "         width_shift_range=0.2, # horizontal shift\n",
    "         height_shift_range=0.2, # vertical shift\n",
    "         zoom_range=0.2, # zoom\n",
    "         horizontal_flip=True, # horizontal flip\n",
    "         brightness_range=[0.2,1.2]) # brightness\n",
    "\n",
    "data_dir = \"ISL-Original/Training\"\n",
    "test_datagen=ImageDataGenerator(validation_split=0.2)\n",
    "train_ds = datagen.flow_from_directory(data_dir,\n",
    "                                           class_mode = 'categorical',\n",
    "                                           target_size = (28, 28),\n",
    "                                           batch_size=128,\n",
    "                                       subset='training',\n",
    "                                           seed=46)\n",
    "val_ds = test_datagen.flow_from_directory(data_dir,\n",
    "                                     class_mode = 'categorical',\n",
    "                                     target_size = (28, 28),\n",
    "                                     batch_size=128,\n",
    "                                          subset='validation',\n",
    "                                     seed=46)"
   ]
  },
  {
   "cell_type": "markdown",
   "metadata": {},
   "source": [
    "### Declare Metrics "
   ]
  },
  {
   "cell_type": "code",
   "execution_count": 3,
   "metadata": {},
   "outputs": [],
   "source": [
    "from tensorflow.keras import backend as K\n",
    "def precision(y_true, y_pred):\n",
    "    \"\"\" Precision metric. Only computes a batch-wise average of precision. Computes the precision, a metric for multi-label classification of\n",
    "    how many selected items are relevant.\"\"\"\n",
    "    true_positives = K.sum(K.round(K.clip(y_true * y_pred, 0, 1)))\n",
    "    predicted_positives = K.sum(K.round(K.clip(y_pred, 0, 1)))\n",
    "    precision = true_positives / (predicted_positives + K.epsilon())\n",
    "    return precision\n",
    "\n",
    "def recall(y_true, y_pred):\n",
    "    \"\"\" Recall metric. Only computes a batch-wise average of recall. Computes the recall, a metric for multi-label classification of\n",
    "    how many relevant items are selected. \"\"\"\n",
    "    true_positives = K.sum(K.round(K.clip(y_true * y_pred, 0, 1)))\n",
    "    possible_positives = K.sum(K.round(K.clip(y_true, 0, 1)))\n",
    "    recall = true_positives / (possible_positives + K.epsilon())\n",
    "    return recall\n",
    "\n",
    "def f1(y_true, y_pred):\n",
    "    precision_f = precision(y_true, y_pred)\n",
    "    recall_f = recall(y_true, y_pred)\n",
    "    return 2*((precision_f*recall_f)/(precision_f+recall_f+K.epsilon()))"
   ]
  },
  {
   "cell_type": "markdown",
   "metadata": {},
   "source": [
    "### Implement the Deep Learning Model - MobileNet"
   ]
  },
  {
   "cell_type": "code",
   "execution_count": 4,
   "metadata": {},
   "outputs": [],
   "source": [
    "model=Sequential()\n",
    "\n",
    "# model.add(Lambda(standardize,input_shape=(28,28,1)))    \n",
    "model.add(Conv2D(filters=64, kernel_size = (3,3), activation=\"relu\", input_shape=(28,28,3)))\n",
    "model.add(Conv2D(filters=64, kernel_size = (3,3), activation=\"relu\"))\n",
    "model.add(MaxPooling2D(pool_size=(2,2)))\n",
    "model.add(tf.keras.layers.BatchNormalization())\n",
    "\n",
    "model.add(Conv2D(filters=128, kernel_size = (3,3), activation=\"relu\"))\n",
    "model.add(Conv2D(filters=128, kernel_size = (3,3), activation=\"relu\"))\n",
    "model.add(MaxPooling2D(pool_size=(2,2)))\n",
    "model.add(tf.keras.layers.BatchNormalization())    \n",
    "\n",
    "model.add(Conv2D(filters=256, kernel_size = (3,3), activation=\"relu\"))\n",
    "model.add(MaxPooling2D(pool_size=(2,2)))\n",
    "model.add(tf.keras.layers.BatchNormalization())\n",
    "    \n",
    "model.add(Flatten())\n",
    "model.add(Dense(512,activation=\"relu\"))\n",
    "    \n",
    "model.add(Dense(26,activation=\"softmax\"))\n",
    "    "
   ]
  },
  {
   "cell_type": "code",
   "execution_count": 5,
   "metadata": {},
   "outputs": [
    {
     "name": "stdout",
     "output_type": "stream",
     "text": [
      "Model: \"sequential\"\n",
      "_________________________________________________________________\n",
      "Layer (type)                 Output Shape              Param #   \n",
      "=================================================================\n",
      "conv2d (Conv2D)              (None, 26, 26, 64)        1792      \n",
      "_________________________________________________________________\n",
      "conv2d_1 (Conv2D)            (None, 24, 24, 64)        36928     \n",
      "_________________________________________________________________\n",
      "max_pooling2d (MaxPooling2D) (None, 12, 12, 64)        0         \n",
      "_________________________________________________________________\n",
      "batch_normalization (BatchNo (None, 12, 12, 64)        256       \n",
      "_________________________________________________________________\n",
      "conv2d_2 (Conv2D)            (None, 10, 10, 128)       73856     \n",
      "_________________________________________________________________\n",
      "conv2d_3 (Conv2D)            (None, 8, 8, 128)         147584    \n",
      "_________________________________________________________________\n",
      "max_pooling2d_1 (MaxPooling2 (None, 4, 4, 128)         0         \n",
      "_________________________________________________________________\n",
      "batch_normalization_1 (Batch (None, 4, 4, 128)         512       \n",
      "_________________________________________________________________\n",
      "conv2d_4 (Conv2D)            (None, 2, 2, 256)         295168    \n",
      "_________________________________________________________________\n",
      "max_pooling2d_2 (MaxPooling2 (None, 1, 1, 256)         0         \n",
      "_________________________________________________________________\n",
      "batch_normalization_2 (Batch (None, 1, 1, 256)         1024      \n",
      "_________________________________________________________________\n",
      "flatten (Flatten)            (None, 256)               0         \n",
      "_________________________________________________________________\n",
      "dense (Dense)                (None, 512)               131584    \n",
      "_________________________________________________________________\n",
      "dense_1 (Dense)              (None, 26)                13338     \n",
      "=================================================================\n",
      "Total params: 702,042\n",
      "Trainable params: 701,146\n",
      "Non-trainable params: 896\n",
      "_________________________________________________________________\n"
     ]
    }
   ],
   "source": [
    "model.summary()"
   ]
  },
  {
   "cell_type": "code",
   "execution_count": 7,
   "metadata": {
    "scrolled": true
   },
   "outputs": [
    {
     "name": "stdout",
     "output_type": "stream",
     "text": [
      "Epoch 1/10\n",
      "69/69 [==============================] - 75s 1s/step - loss: 2.0598 - accuracy: 0.3988 - f1: 0.2581 - precision: 0.7249 - recall: 0.1720 - val_loss: 2.1577 - val_accuracy: 0.3961 - val_f1: 0.3918 - val_precision: 0.5756 - val_recall: 0.2980\n",
      "Epoch 2/10\n",
      "69/69 [==============================] - 73s 1s/step - loss: 0.8020 - accuracy: 0.7656 - f1: 0.7307 - precision: 0.8846 - recall: 0.6291 - val_loss: 3.4477 - val_accuracy: 0.3371 - val_f1: 0.3535 - val_precision: 0.3953 - val_recall: 0.3200\n",
      "Epoch 3/10\n",
      "69/69 [==============================] - 73s 1s/step - loss: 0.4038 - accuracy: 0.8798 - f1: 0.8758 - precision: 0.9311 - recall: 0.8275 - val_loss: 0.4802 - val_accuracy: 0.8342 - val_f1: 0.8396 - val_precision: 0.8855 - val_recall: 0.7987\n",
      "Epoch 4/10\n",
      "69/69 [==============================] - 74s 1s/step - loss: 0.2567 - accuracy: 0.9225 - f1: 0.9210 - precision: 0.9499 - recall: 0.8941 - val_loss: 0.4085 - val_accuracy: 0.8488 - val_f1: 0.8503 - val_precision: 0.8882 - val_recall: 0.8157\n",
      "Epoch 5/10\n",
      "69/69 [==============================] - 71s 1s/step - loss: 0.1805 - accuracy: 0.9460 - f1: 0.9449 - precision: 0.9615 - recall: 0.9290 - val_loss: 0.3301 - val_accuracy: 0.9150 - val_f1: 0.9223 - val_precision: 0.9389 - val_recall: 0.9064\n",
      "Epoch 6/10\n",
      "69/69 [==============================] - 72s 1s/step - loss: 0.1545 - accuracy: 0.9516 - f1: 0.9513 - precision: 0.9640 - recall: 0.9390 - val_loss: 0.3527 - val_accuracy: 0.8789 - val_f1: 0.8785 - val_precision: 0.8929 - val_recall: 0.8647\n",
      "Epoch 7/10\n",
      "69/69 [==============================] - 85s 1s/step - loss: 0.1236 - accuracy: 0.9604 - f1: 0.9609 - precision: 0.9707 - recall: 0.9513 - val_loss: 0.2495 - val_accuracy: 0.9265 - val_f1: 0.9269 - val_precision: 0.9336 - val_recall: 0.9202\n",
      "Epoch 8/10\n",
      "69/69 [==============================] - 90s 1s/step - loss: 0.1286 - accuracy: 0.9582 - f1: 0.9594 - precision: 0.9676 - recall: 0.9513 - val_loss: 1.6756 - val_accuracy: 0.6313 - val_f1: 0.6403 - val_precision: 0.6620 - val_recall: 0.6201\n",
      "Epoch 9/10\n",
      "69/69 [==============================] - 88s 1s/step - loss: 0.1241 - accuracy: 0.9592 - f1: 0.9590 - precision: 0.9679 - recall: 0.9504 - val_loss: 0.4239 - val_accuracy: 0.8904 - val_f1: 0.8867 - val_precision: 0.8923 - val_recall: 0.8813\n",
      "Epoch 10/10\n",
      "69/69 [==============================] - 81s 1s/step - loss: 0.0989 - accuracy: 0.9683 - f1: 0.9679 - precision: 0.9742 - recall: 0.9618 - val_loss: 0.5349 - val_accuracy: 0.8301 - val_f1: 0.8333 - val_precision: 0.8489 - val_recall: 0.8183\n"
     ]
    }
   ],
   "source": [
    "#fit the model\n",
    "#it will take some time to train\n",
    "model.compile(optimizer='adam', loss='categorical_crossentropy',  metrics = ['accuracy',f1, precision,recall])\n",
    "history = model.fit(train_ds, epochs =10, batch_size = 128,validation_data=val_ds)"
   ]
  },
  {
   "cell_type": "markdown",
   "metadata": {},
   "source": [
    "### Learning Curves - Graph "
   ]
  },
  {
   "cell_type": "code",
   "execution_count": 10,
   "metadata": {},
   "outputs": [
    {
     "data": {
      "image/png": "[encoded data removed]",
      "text/plain": [
       "<Figure size 432x288 with 1 Axes>"
      ]
     },
     "metadata": {
      "needs_background": "light"
     },
     "output_type": "display_data"
    }
   ],
   "source": [
    "fig1 = plt.gcf()\n",
    "plt.plot(history.history['accuracy'])\n",
    "plt.plot(history.history['val_accuracy'])\n",
    "plt.axis(ymin=0.3,ymax=1)\n",
    "plt.grid()\n",
    "plt.title('Model Accuracy')\n",
    "plt.ylabel('Accuracy')\n",
    "plt.xlabel('Epochs')\n",
    "plt.legend(['train', 'validation'])\n",
    "plt.show()"
   ]
  },
  {
   "cell_type": "code",
   "execution_count": 18,
   "metadata": {},
   "outputs": [
    {
     "data": {
      "image/png": "[encoded data removed]",
      "text/plain": [
       "<Figure size 432x288 with 1 Axes>"
      ]
     },
     "metadata": {
      "needs_background": "light"
     },
     "output_type": "display_data"
    }
   ],
   "source": [
    "fig1 = plt.gcf()\n",
    "plt.plot(history.history['loss'])\n",
    "plt.plot(history.history['val_loss'])\n",
    "plt.axis(ymin=0,ymax=3.5)\n",
    "plt.grid()\n",
    "plt.title('Model Loss')\n",
    "plt.ylabel('Loss')\n",
    "plt.xlabel('Epochs')\n",
    "plt.legend(['train', 'validation'])\n",
    "plt.show()"
   ]
  },
  {
   "cell_type": "markdown",
   "metadata": {},
   "source": [
    "### Evaluating the Model "
   ]
  },
  {
   "cell_type": "code",
   "execution_count": 19,
   "metadata": {},
   "outputs": [],
   "source": [
    "Y_pred = model.predict_generator(val_ds)\n",
    "y_pred = np.argmax(Y_pred, axis=1)"
   ]
  },
  {
   "cell_type": "code",
   "execution_count": 20,
   "metadata": {},
   "outputs": [
    {
     "data": {
      "text/plain": [
       "Text(0.5, 33.0, 'Predicted label')"
      ]
     },
     "execution_count": 20,
     "metadata": {},
     "output_type": "execute_result"
    },
    {
     "data": {
      "image/png": "[encoded data removed]",
      "text/plain": [
       "<Figure size 504x432 with 2 Axes>"
      ]
     },
     "metadata": {
      "needs_background": "light"
     },
     "output_type": "display_data"
    }
   ],
   "source": [
    "cf_mat = confusion_matrix(val_ds.classes, y_pred)\n",
    "cf_mat_normalized = cf_mat.astype('float') / cf_mat.sum(axis=1)[:, np.newaxis]\n",
    "plt.figure(figsize=(7, 6))\n",
    "sns.heatmap(cf_mat_normalized, cmap=\"Blues\")\n",
    "plt.ylabel('True label')\n",
    "plt.xlabel('Predicted label')"
   ]
  },
  {
   "cell_type": "code",
   "execution_count": 21,
   "metadata": {},
   "outputs": [],
   "source": [
    "model.save('cnn_signd.h5')"
   ]
  },
  {
   "cell_type": "code",
   "execution_count": 22,
   "metadata": {},
   "outputs": [
    {
     "name": "stdout",
     "output_type": "stream",
     "text": [
      "              precision    recall  f1-score   support\n",
      "\n",
      "           0       0.01      0.01      0.01        82\n",
      "           1       0.00      0.00      0.00        84\n",
      "           2       0.08      0.05      0.06        80\n",
      "           3       0.01      0.01      0.01        85\n",
      "           4       0.02      0.01      0.02        82\n",
      "           5       0.00      0.00      0.00        83\n",
      "           6       0.03      0.03      0.03        80\n",
      "           7       0.05      0.06      0.05        82\n",
      "           8       0.00      0.00      0.00        83\n",
      "           9       0.00      0.00      0.00        84\n",
      "          10       0.01      0.01      0.01        80\n",
      "          11       0.04      0.05      0.04        88\n",
      "          12       0.04      0.07      0.05        82\n",
      "          13       0.02      0.01      0.02        79\n",
      "          14       0.05      0.05      0.05        85\n",
      "          15       0.02      0.02      0.02        86\n",
      "          16       0.10      0.09      0.10        85\n",
      "          17       0.06      0.10      0.07        81\n",
      "          18       0.05      0.05      0.05        84\n",
      "          19       0.04      0.04      0.04        97\n",
      "          20       0.07      0.02      0.04        84\n",
      "          21       0.03      0.05      0.03        82\n",
      "          22       0.03      0.03      0.03        89\n",
      "          23       0.02      0.02      0.02        94\n",
      "          24       0.01      0.01      0.01        81\n",
      "          25       0.02      0.02      0.02        87\n",
      "\n",
      "    accuracy                           0.03      2189\n",
      "   macro avg       0.03      0.03      0.03      2189\n",
      "weighted avg       0.03      0.03      0.03      2189\n",
      "\n"
     ]
    }
   ],
   "source": [
    "labels = val_ds.classes\n",
    "print(classification_report(labels, y_pred))"
   ]
  },
  {
   "cell_type": "code",
   "execution_count": 33,
   "metadata": {},
   "outputs": [
    {
     "data": {
      "text/plain": [
       "['Z']"
      ]
     },
     "execution_count": 33,
     "metadata": {},
     "output_type": "execute_result"
    },
    {
     "data": {
      "image/png": "[encoded data removed]",
      "text/plain": [
       "<Figure size 432x288 with 1 Axes>"
      ]
     },
     "metadata": {
      "needs_background": "light"
     },
     "output_type": "display_data"
    }
   ],
   "source": [
    "#Creating a dictionary to map each of the indexes to the corresponding number or letter\n",
    "from keras.preprocessing import image\n",
    "dict = {0:\"A\",1:\"B\",2:\"C\",3:\"D\",4:\"E\",5:\"F\",6:\"G\",7:\"H\",8:\"I\",9:\"J\",10:\"K\",\n",
    "        11:\"L\",12:\"M\",13:\"N\",14:\"O\",15:\"P\",16:\"Q\",17:\"R\",18:\"S\",19:\"T\",20:\"U\",21:\"V\",22:\"W\",23:\"X\",\n",
    "        24:\"Y\",25:\"Z\"}\n",
    "\n",
    "\n",
    "#Predicting images\n",
    "\n",
    "img = image.load_img(\"sign_B2.jpg\", target_size=(28, 28))\n",
    "x = image.img_to_array(img)\n",
    "plt.imshow(img)\n",
    "x = np.expand_dims(x, axis=0)\n",
    "\n",
    "image = np.vstack([x])\n",
    "classes = model.predict(image, batch_size=64)\n",
    "label = [np.argmax(i) for i in classes]\n",
    "pred_class=[dict[x] for x in label]\n",
    "pred_class"
   ]
  },
  {
   "cell_type": "code",
   "execution_count": 34,
   "metadata": {},
   "outputs": [],
   "source": [
    "loss, accuracy, f1_score, precision, recall = model.evaluate(val_ds, verbose=0)"
   ]
  },
  {
   "cell_type": "code",
   "execution_count": 35,
   "metadata": {},
   "outputs": [
    {
     "name": "stdout",
     "output_type": "stream",
     "text": [
      "Test Loss:  0.5349419713020325\n",
      "Test Accuracy:  0.8300594091415405\n",
      "Test Precision:  0.8525751233100891\n",
      "Test Recall:  0.8221153616905212\n",
      "Test F1 Score:  0.8369857668876648\n"
     ]
    }
   ],
   "source": [
    "print(f\"Test Loss: \", loss)\n",
    "print(f\"Test Accuracy: \", accuracy)\n",
    "print(f\"Test Precision: \", precision)\n",
    "print(f\"Test Recall: \",recall)\n",
    "print(f\"Test F1 Score: \",f1_score)"
   ]
  },
  {
   "cell_type": "code",
   "execution_count": 36,
   "metadata": {},
   "outputs": [
    {
     "name": "stdout",
     "output_type": "stream",
     "text": [
      "Test Loss:  53.494 %\n",
      "Test Accuracy:  83.006 %\n",
      "Test Precision:  85.258 %\n",
      "Test Recall:  82.212 %\n",
      "Test F1 Score:  83.699 %\n"
     ]
    }
   ],
   "source": [
    "print(f\"Test Loss: \", round(loss*100, 3), '%')\n",
    "print(f\"Test Accuracy: \", round(accuracy*100, 3), '%')\n",
    "print(f\"Test Precision: \", round(precision*100, 3), '%')\n",
    "print(f\"Test Recall: \",round(recall*100, 3), '%')\n",
    "print(f\"Test F1 Score: \",round(f1_score*100, 3), '%')"
   ]
  }
 ],
 "metadata": {
  "kernelspec": {
   "display_name": "Python 3",
   "language": "python",
   "name": "python3"
  },
  "language_info": {
   "codemirror_mode": {
    "name": "ipython",
    "version": 3
   },
   "file_extension": ".py",
   "mimetype": "text/x-python",
   "name": "python",
   "nbconvert_exporter": "python",
   "pygments_lexer": "ipython3",
   "version": "3.8.8"
  }
 },
 "nbformat": 4,
 "nbformat_minor": 4
}
